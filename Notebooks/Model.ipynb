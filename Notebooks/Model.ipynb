{
  "nbformat": 4,
  "nbformat_minor": 0,
  "metadata": {
    "colab": {
      "name": "Model.ipynb",
      "provenance": []
    },
    "kernelspec": {
      "name": "python3",
      "display_name": "Python 3"
    },
    "language_info": {
      "name": "python"
    },
    "accelerator": "GPU"
  },
  "cells": [
    {
      "cell_type": "code",
      "metadata": {
        "colab": {
          "base_uri": "https://localhost:8080/"
        },
        "id": "mJ7Mn7kejvfQ",
        "outputId": "f0e6014b-1131-4e7c-fad3-7f08c049643a"
      },
      "source": [
        "!pip install scikit-learn>=0.24\n",
        "!pip install ktrain \n",
        "!pip install Unidecode\n",
        "!pip install git+https://github.com/ClaudeCoulombe/FrenchLefffLemmatizer.git"
      ],
      "execution_count": 1,
      "outputs": [
        {
          "output_type": "stream",
          "name": "stdout",
          "text": [
            "Requirement already satisfied: ktrain in /usr/local/lib/python3.7/dist-packages (0.27.3)\n",
            "Requirement already satisfied: scikit-learn==0.23.2 in /usr/local/lib/python3.7/dist-packages (from ktrain) (0.23.2)\n",
            "Requirement already satisfied: syntok in /usr/local/lib/python3.7/dist-packages (from ktrain) (1.3.1)\n",
            "Requirement already satisfied: requests in /usr/local/lib/python3.7/dist-packages (from ktrain) (2.23.0)\n",
            "Requirement already satisfied: fastprogress>=0.1.21 in /usr/local/lib/python3.7/dist-packages (from ktrain) (1.0.0)\n",
            "Requirement already satisfied: networkx>=2.3 in /usr/local/lib/python3.7/dist-packages (from ktrain) (2.6.3)\n",
            "Requirement already satisfied: seqeval==0.0.19 in /usr/local/lib/python3.7/dist-packages (from ktrain) (0.0.19)\n",
            "Requirement already satisfied: cchardet in /usr/local/lib/python3.7/dist-packages (from ktrain) (2.1.7)\n",
            "Requirement already satisfied: matplotlib>=3.0.0 in /usr/local/lib/python3.7/dist-packages (from ktrain) (3.2.2)\n",
            "Requirement already satisfied: chardet in /usr/local/lib/python3.7/dist-packages (from ktrain) (3.0.4)\n",
            "Requirement already satisfied: ipython in /usr/local/lib/python3.7/dist-packages (from ktrain) (5.5.0)\n",
            "Requirement already satisfied: langdetect in /usr/local/lib/python3.7/dist-packages (from ktrain) (1.0.9)\n",
            "Requirement already satisfied: jieba in /usr/local/lib/python3.7/dist-packages (from ktrain) (0.42.1)\n",
            "Requirement already satisfied: pandas>=1.0.1 in /usr/local/lib/python3.7/dist-packages (from ktrain) (1.1.5)\n",
            "Requirement already satisfied: whoosh in /usr/local/lib/python3.7/dist-packages (from ktrain) (2.7.4)\n",
            "Requirement already satisfied: joblib in /usr/local/lib/python3.7/dist-packages (from ktrain) (1.0.1)\n",
            "Requirement already satisfied: packaging in /usr/local/lib/python3.7/dist-packages (from ktrain) (21.0)\n",
            "Requirement already satisfied: sentencepiece in /usr/local/lib/python3.7/dist-packages (from ktrain) (0.1.96)\n",
            "Requirement already satisfied: transformers<=4.3.3,>=4.0.0 in /usr/local/lib/python3.7/dist-packages (from ktrain) (4.3.3)\n",
            "Requirement already satisfied: keras-bert>=0.86.0 in /usr/local/lib/python3.7/dist-packages (from ktrain) (0.88.0)\n",
            "Requirement already satisfied: numpy>=1.13.3 in /usr/local/lib/python3.7/dist-packages (from scikit-learn==0.23.2->ktrain) (1.19.5)\n",
            "Requirement already satisfied: threadpoolctl>=2.0.0 in /usr/local/lib/python3.7/dist-packages (from scikit-learn==0.23.2->ktrain) (2.2.0)\n",
            "Requirement already satisfied: scipy>=0.19.1 in /usr/local/lib/python3.7/dist-packages (from scikit-learn==0.23.2->ktrain) (1.4.1)\n",
            "Requirement already satisfied: Keras>=2.2.4 in /usr/local/lib/python3.7/dist-packages (from seqeval==0.0.19->ktrain) (2.6.0)\n",
            "Requirement already satisfied: keras-transformer>=0.39.0 in /usr/local/lib/python3.7/dist-packages (from keras-bert>=0.86.0->ktrain) (0.39.0)\n",
            "Requirement already satisfied: keras-layer-normalization>=0.15.0 in /usr/local/lib/python3.7/dist-packages (from keras-transformer>=0.39.0->keras-bert>=0.86.0->ktrain) (0.15.0)\n",
            "Requirement already satisfied: keras-multi-head>=0.28.0 in /usr/local/lib/python3.7/dist-packages (from keras-transformer>=0.39.0->keras-bert>=0.86.0->ktrain) (0.28.0)\n",
            "Requirement already satisfied: keras-position-wise-feed-forward>=0.7.0 in /usr/local/lib/python3.7/dist-packages (from keras-transformer>=0.39.0->keras-bert>=0.86.0->ktrain) (0.7.0)\n",
            "Requirement already satisfied: keras-embed-sim>=0.9.0 in /usr/local/lib/python3.7/dist-packages (from keras-transformer>=0.39.0->keras-bert>=0.86.0->ktrain) (0.9.0)\n",
            "Requirement already satisfied: keras-pos-embd>=0.12.0 in /usr/local/lib/python3.7/dist-packages (from keras-transformer>=0.39.0->keras-bert>=0.86.0->ktrain) (0.12.0)\n",
            "Requirement already satisfied: keras-self-attention>=0.50.0 in /usr/local/lib/python3.7/dist-packages (from keras-multi-head>=0.28.0->keras-transformer>=0.39.0->keras-bert>=0.86.0->ktrain) (0.50.0)\n",
            "Requirement already satisfied: cycler>=0.10 in /usr/local/lib/python3.7/dist-packages (from matplotlib>=3.0.0->ktrain) (0.10.0)\n",
            "Requirement already satisfied: kiwisolver>=1.0.1 in /usr/local/lib/python3.7/dist-packages (from matplotlib>=3.0.0->ktrain) (1.3.2)\n",
            "Requirement already satisfied: pyparsing!=2.0.4,!=2.1.2,!=2.1.6,>=2.0.1 in /usr/local/lib/python3.7/dist-packages (from matplotlib>=3.0.0->ktrain) (2.4.7)\n",
            "Requirement already satisfied: python-dateutil>=2.1 in /usr/local/lib/python3.7/dist-packages (from matplotlib>=3.0.0->ktrain) (2.8.2)\n",
            "Requirement already satisfied: six in /usr/local/lib/python3.7/dist-packages (from cycler>=0.10->matplotlib>=3.0.0->ktrain) (1.15.0)\n",
            "Requirement already satisfied: pytz>=2017.2 in /usr/local/lib/python3.7/dist-packages (from pandas>=1.0.1->ktrain) (2018.9)\n",
            "Requirement already satisfied: regex!=2019.12.17 in /usr/local/lib/python3.7/dist-packages (from transformers<=4.3.3,>=4.0.0->ktrain) (2019.12.20)\n",
            "Requirement already satisfied: importlib-metadata in /usr/local/lib/python3.7/dist-packages (from transformers<=4.3.3,>=4.0.0->ktrain) (4.8.1)\n",
            "Requirement already satisfied: sacremoses in /usr/local/lib/python3.7/dist-packages (from transformers<=4.3.3,>=4.0.0->ktrain) (0.0.46)\n",
            "Requirement already satisfied: tokenizers<0.11,>=0.10.1 in /usr/local/lib/python3.7/dist-packages (from transformers<=4.3.3,>=4.0.0->ktrain) (0.10.3)\n",
            "Requirement already satisfied: tqdm>=4.27 in /usr/local/lib/python3.7/dist-packages (from transformers<=4.3.3,>=4.0.0->ktrain) (4.62.2)\n",
            "Requirement already satisfied: filelock in /usr/local/lib/python3.7/dist-packages (from transformers<=4.3.3,>=4.0.0->ktrain) (3.0.12)\n",
            "Requirement already satisfied: zipp>=0.5 in /usr/local/lib/python3.7/dist-packages (from importlib-metadata->transformers<=4.3.3,>=4.0.0->ktrain) (3.5.0)\n",
            "Requirement already satisfied: typing-extensions>=3.6.4 in /usr/local/lib/python3.7/dist-packages (from importlib-metadata->transformers<=4.3.3,>=4.0.0->ktrain) (3.7.4.3)\n",
            "Requirement already satisfied: pygments in /usr/local/lib/python3.7/dist-packages (from ipython->ktrain) (2.6.1)\n",
            "Requirement already satisfied: prompt-toolkit<2.0.0,>=1.0.4 in /usr/local/lib/python3.7/dist-packages (from ipython->ktrain) (1.0.18)\n",
            "Requirement already satisfied: traitlets>=4.2 in /usr/local/lib/python3.7/dist-packages (from ipython->ktrain) (5.1.0)\n",
            "Requirement already satisfied: setuptools>=18.5 in /usr/local/lib/python3.7/dist-packages (from ipython->ktrain) (57.4.0)\n",
            "Requirement already satisfied: simplegeneric>0.8 in /usr/local/lib/python3.7/dist-packages (from ipython->ktrain) (0.8.1)\n",
            "Requirement already satisfied: pexpect in /usr/local/lib/python3.7/dist-packages (from ipython->ktrain) (4.8.0)\n",
            "Requirement already satisfied: decorator in /usr/local/lib/python3.7/dist-packages (from ipython->ktrain) (4.4.2)\n",
            "Requirement already satisfied: pickleshare in /usr/local/lib/python3.7/dist-packages (from ipython->ktrain) (0.7.5)\n",
            "Requirement already satisfied: wcwidth in /usr/local/lib/python3.7/dist-packages (from prompt-toolkit<2.0.0,>=1.0.4->ipython->ktrain) (0.2.5)\n",
            "Requirement already satisfied: ptyprocess>=0.5 in /usr/local/lib/python3.7/dist-packages (from pexpect->ipython->ktrain) (0.7.0)\n",
            "Requirement already satisfied: certifi>=2017.4.17 in /usr/local/lib/python3.7/dist-packages (from requests->ktrain) (2021.5.30)\n",
            "Requirement already satisfied: idna<3,>=2.5 in /usr/local/lib/python3.7/dist-packages (from requests->ktrain) (2.10)\n",
            "Requirement already satisfied: urllib3!=1.25.0,!=1.25.1,<1.26,>=1.21.1 in /usr/local/lib/python3.7/dist-packages (from requests->ktrain) (1.24.3)\n",
            "Requirement already satisfied: click in /usr/local/lib/python3.7/dist-packages (from sacremoses->transformers<=4.3.3,>=4.0.0->ktrain) (7.1.2)\n",
            "Requirement already satisfied: Unidecode in /usr/local/lib/python3.7/dist-packages (1.3.2)\n",
            "Collecting git+https://github.com/ClaudeCoulombe/FrenchLefffLemmatizer.git\n",
            "  Cloning https://github.com/ClaudeCoulombe/FrenchLefffLemmatizer.git to /tmp/pip-req-build-84b6rj8i\n",
            "  Running command git clone -q https://github.com/ClaudeCoulombe/FrenchLefffLemmatizer.git /tmp/pip-req-build-84b6rj8i\n"
          ]
        }
      ]
    },
    {
      "cell_type": "code",
      "metadata": {
        "colab": {
          "base_uri": "https://localhost:8080/"
        },
        "id": "kFHRwd5FqLPj",
        "outputId": "8986897f-8b4f-4910-9d04-5931f763fc4e"
      },
      "source": [
        "import tensorflow as tf\n",
        "import matplotlib.pyplot as plt\n",
        "import pandas as pd\n",
        "import numpy as np\n",
        "from tensorflow.keras.optimizers import Adam\n",
        "from tensorflow.keras.callbacks import ReduceLROnPlateau\n",
        "import nltk \n",
        "nltk.download('stopwords')\n",
        "from nltk.corpus import stopwords\n",
        "from nltk.stem import SnowballStemmer\n",
        "from keras.preprocessing.sequence import pad_sequences\n",
        "from sklearn.model_selection import train_test_split\n",
        "from sklearn.preprocessing import LabelEncoder\n",
        "from keras.preprocessing.text import Tokenizer\n",
        "from google.colab import drive\n",
        "import re\n",
        "from tensorflow.keras.layers import Conv1D, Bidirectional, LSTM, Dense, Input, Dropout\n",
        "from tensorflow.keras.layers import SpatialDropout1D\n",
        "from tensorflow.keras.callbacks import ModelCheckpoint\n",
        "print(\"Tensorflow Version\",tf.__version__)\n",
        "import pandas as pd\n",
        "import numpy as np\n",
        "from datetime import datetime\n",
        "import pandas as pd\n",
        "import string\n",
        "import re\n",
        "from unidecode import unidecode\n",
        "from textblob import TextBlob\n",
        "import spacy\n",
        "import nltk\n",
        "from nltk import word_tokenize\n",
        "from french_lefff_lemmatizer.french_lefff_lemmatizer import FrenchLefffLemmatizer\n",
        "from datetime import datetime\n",
        "import string\n",
        "\n",
        "# initialisation\n",
        "nltk.download('stopwords')  # mots les plus fréquents\n",
        "nltk.download('punkt')\n",
        "nltk.download('words')\n",
        "nltk.download('wordnet')"
      ],
      "execution_count": 2,
      "outputs": [
        {
          "output_type": "stream",
          "name": "stdout",
          "text": [
            "[nltk_data] Downloading package stopwords to /root/nltk_data...\n",
            "[nltk_data]   Package stopwords is already up-to-date!\n",
            "Tensorflow Version 2.6.0\n",
            "[nltk_data] Downloading package stopwords to /root/nltk_data...\n",
            "[nltk_data]   Package stopwords is already up-to-date!\n",
            "[nltk_data] Downloading package punkt to /root/nltk_data...\n",
            "[nltk_data]   Package punkt is already up-to-date!\n",
            "[nltk_data] Downloading package words to /root/nltk_data...\n",
            "[nltk_data]   Package words is already up-to-date!\n",
            "[nltk_data] Downloading package wordnet to /root/nltk_data...\n",
            "[nltk_data]   Package wordnet is already up-to-date!\n"
          ]
        },
        {
          "output_type": "execute_result",
          "data": {
            "text/plain": [
              "True"
            ]
          },
          "metadata": {},
          "execution_count": 2
        }
      ]
    },
    {
      "cell_type": "code",
      "metadata": {
        "id": "iXEkqjihqaXf",
        "colab": {
          "base_uri": "https://localhost:8080/"
        },
        "outputId": "484d0fde-8149-4caf-8ea8-5bc3256ac027"
      },
      "source": [
        "drive.mount('/content/drive')"
      ],
      "execution_count": 3,
      "outputs": [
        {
          "output_type": "stream",
          "name": "stdout",
          "text": [
            "Drive already mounted at /content/drive; to attempt to forcibly remount, call drive.mount(\"/content/drive\", force_remount=True).\n"
          ]
        }
      ]
    },
    {
      "cell_type": "code",
      "metadata": {
        "id": "lRqq1AHCrdDD",
        "colab": {
          "base_uri": "https://localhost:8080/",
          "height": 424
        },
        "outputId": "6eebdcb9-5fcb-4bcc-b76b-3037888112b1"
      },
      "source": [
        "df = pd.read_csv('/content/drive/MyDrive/datagram/data/train_datam.csv')\n",
        "df"
      ],
      "execution_count": 4,
      "outputs": [
        {
          "output_type": "execute_result",
          "data": {
            "text/html": [
              "<div>\n",
              "<style scoped>\n",
              "    .dataframe tbody tr th:only-of-type {\n",
              "        vertical-align: middle;\n",
              "    }\n",
              "\n",
              "    .dataframe tbody tr th {\n",
              "        vertical-align: top;\n",
              "    }\n",
              "\n",
              "    .dataframe thead th {\n",
              "        text-align: right;\n",
              "    }\n",
              "</style>\n",
              "<table border=\"1\" class=\"dataframe\">\n",
              "  <thead>\n",
              "    <tr style=\"text-align: right;\">\n",
              "      <th></th>\n",
              "      <th>Unnamed: 0</th>\n",
              "      <th>category_id</th>\n",
              "      <th>pname</th>\n",
              "    </tr>\n",
              "  </thead>\n",
              "  <tbody>\n",
              "    <tr>\n",
              "      <th>0</th>\n",
              "      <td>0</td>\n",
              "      <td>403</td>\n",
              "      <td>Double concentré de tomates MUTTI, tube de 130g</td>\n",
              "    </tr>\n",
              "    <tr>\n",
              "      <th>1</th>\n",
              "      <td>1</td>\n",
              "      <td>837</td>\n",
              "      <td>Pur jus de pommes pressées Pure Prémium TROPIC...</td>\n",
              "    </tr>\n",
              "    <tr>\n",
              "      <th>2</th>\n",
              "      <td>2</td>\n",
              "      <td>485</td>\n",
              "      <td>Rillettes de poulet rôti en cocotte</td>\n",
              "    </tr>\n",
              "    <tr>\n",
              "      <th>3</th>\n",
              "      <td>3</td>\n",
              "      <td>363</td>\n",
              "      <td>My Eyes - Taille-crayons 3 diamètres</td>\n",
              "    </tr>\n",
              "    <tr>\n",
              "      <th>4</th>\n",
              "      <td>4</td>\n",
              "      <td>591</td>\n",
              "      <td>Brosse à dents Inter Espaces médium AQUAFRESH</td>\n",
              "    </tr>\n",
              "    <tr>\n",
              "      <th>...</th>\n",
              "      <td>...</td>\n",
              "      <td>...</td>\n",
              "      <td>...</td>\n",
              "    </tr>\n",
              "    <tr>\n",
              "      <th>161875</th>\n",
              "      <td>162161</td>\n",
              "      <td>372</td>\n",
              "      <td>Lait pour le corps bio à l'aloé véra SO BIO, 4...</td>\n",
              "    </tr>\n",
              "    <tr>\n",
              "      <th>161876</th>\n",
              "      <td>162162</td>\n",
              "      <td>510</td>\n",
              "      <td>Hacao aux crevettes + 2 sauces soja, 200g</td>\n",
              "    </tr>\n",
              "    <tr>\n",
              "      <th>161877</th>\n",
              "      <td>162163</td>\n",
              "      <td>587</td>\n",
              "      <td>Studio Line - Indestuctible 9, gel fixation ex...</td>\n",
              "    </tr>\n",
              "    <tr>\n",
              "      <th>161878</th>\n",
              "      <td>162164</td>\n",
              "      <td>411</td>\n",
              "      <td>BISCUITS POIREAU 100G</td>\n",
              "    </tr>\n",
              "    <tr>\n",
              "      <th>161879</th>\n",
              "      <td>162165</td>\n",
              "      <td>377</td>\n",
              "      <td>Boulettes sauce pour chat au poulet, boîte de ...</td>\n",
              "    </tr>\n",
              "  </tbody>\n",
              "</table>\n",
              "<p>161880 rows × 3 columns</p>\n",
              "</div>"
            ],
            "text/plain": [
              "        Unnamed: 0  ...                                              pname\n",
              "0                0  ...    Double concentré de tomates MUTTI, tube de 130g\n",
              "1                1  ...  Pur jus de pommes pressées Pure Prémium TROPIC...\n",
              "2                2  ...                Rillettes de poulet rôti en cocotte\n",
              "3                3  ...               My Eyes - Taille-crayons 3 diamètres\n",
              "4                4  ...      Brosse à dents Inter Espaces médium AQUAFRESH\n",
              "...            ...  ...                                                ...\n",
              "161875      162161  ...  Lait pour le corps bio à l'aloé véra SO BIO, 4...\n",
              "161876      162162  ...          Hacao aux crevettes + 2 sauces soja, 200g\n",
              "161877      162163  ...  Studio Line - Indestuctible 9, gel fixation ex...\n",
              "161878      162164  ...                              BISCUITS POIREAU 100G\n",
              "161879      162165  ...  Boulettes sauce pour chat au poulet, boîte de ...\n",
              "\n",
              "[161880 rows x 3 columns]"
            ]
          },
          "metadata": {},
          "execution_count": 4
        }
      ]
    },
    {
      "cell_type": "code",
      "metadata": {
        "id": "nZCiOCf4reT7",
        "colab": {
          "base_uri": "https://localhost:8080/",
          "height": 206
        },
        "outputId": "4618730e-f255-4f5d-e3dc-69659a480f29"
      },
      "source": [
        "del df['Unnamed: 0']\n",
        "df.columns = ['category_id', 'pname']\n",
        "df.head()"
      ],
      "execution_count": 5,
      "outputs": [
        {
          "output_type": "execute_result",
          "data": {
            "text/html": [
              "<div>\n",
              "<style scoped>\n",
              "    .dataframe tbody tr th:only-of-type {\n",
              "        vertical-align: middle;\n",
              "    }\n",
              "\n",
              "    .dataframe tbody tr th {\n",
              "        vertical-align: top;\n",
              "    }\n",
              "\n",
              "    .dataframe thead th {\n",
              "        text-align: right;\n",
              "    }\n",
              "</style>\n",
              "<table border=\"1\" class=\"dataframe\">\n",
              "  <thead>\n",
              "    <tr style=\"text-align: right;\">\n",
              "      <th></th>\n",
              "      <th>category_id</th>\n",
              "      <th>pname</th>\n",
              "    </tr>\n",
              "  </thead>\n",
              "  <tbody>\n",
              "    <tr>\n",
              "      <th>0</th>\n",
              "      <td>403</td>\n",
              "      <td>Double concentré de tomates MUTTI, tube de 130g</td>\n",
              "    </tr>\n",
              "    <tr>\n",
              "      <th>1</th>\n",
              "      <td>837</td>\n",
              "      <td>Pur jus de pommes pressées Pure Prémium TROPIC...</td>\n",
              "    </tr>\n",
              "    <tr>\n",
              "      <th>2</th>\n",
              "      <td>485</td>\n",
              "      <td>Rillettes de poulet rôti en cocotte</td>\n",
              "    </tr>\n",
              "    <tr>\n",
              "      <th>3</th>\n",
              "      <td>363</td>\n",
              "      <td>My Eyes - Taille-crayons 3 diamètres</td>\n",
              "    </tr>\n",
              "    <tr>\n",
              "      <th>4</th>\n",
              "      <td>591</td>\n",
              "      <td>Brosse à dents Inter Espaces médium AQUAFRESH</td>\n",
              "    </tr>\n",
              "  </tbody>\n",
              "</table>\n",
              "</div>"
            ],
            "text/plain": [
              "   category_id                                              pname\n",
              "0          403    Double concentré de tomates MUTTI, tube de 130g\n",
              "1          837  Pur jus de pommes pressées Pure Prémium TROPIC...\n",
              "2          485                Rillettes de poulet rôti en cocotte\n",
              "3          363               My Eyes - Taille-crayons 3 diamètres\n",
              "4          591      Brosse à dents Inter Espaces médium AQUAFRESH"
            ]
          },
          "metadata": {},
          "execution_count": 5
        }
      ]
    },
    {
      "cell_type": "code",
      "metadata": {
        "id": "E3xSbjJo0-yw"
      },
      "source": [
        "abbreviations = {\n",
        "    \"$\": \" dollar \",\n",
        "    \"€\": \" euro \",\n",
        "    \"4ao\": \"for adults only\",\n",
        "    \"a.m\": \"before midday\",\n",
        "    \"a3\": \"anytime anywhere anyplace\",\n",
        "    \"aamof\": \"as a matter of fact\",\n",
        "    \"acct\": \"account\",\n",
        "    \"adih\": \"another day in hell\",\n",
        "    \"afaic\": \"as far as i am concerned\",\n",
        "    \"afaict\": \"as far as i can tell\",\n",
        "    \"afaik\": \"as far as i know\",\n",
        "    \"afair\": \"as far as i remember\",\n",
        "    \"afk\": \"away from keyboard\",\n",
        "    \"app\": \"application\",\n",
        "    \"approx\": \"approximately\",\n",
        "    \"apps\": \"applications\",\n",
        "    \"asap\": \"as soon as possible\",\n",
        "    \"asl\": \"age, sex, location\",\n",
        "    \"atk\": \"at the keyboard\",\n",
        "    \"ave.\": \"avenue\",\n",
        "    \"aymm\": \"are you my mother\",\n",
        "    \"ayor\": \"at your own risk\",\n",
        "    \"b&b\": \"bed and breakfast\",\n",
        "    \"b+b\": \"bed and breakfast\",\n",
        "    \"b.c\": \"before christ\",\n",
        "    \"b2b\": \"business to business\",\n",
        "    \"b2c\": \"business to customer\",\n",
        "    \"b4\": \"before\",\n",
        "    \"b4n\": \"bye for now\",\n",
        "    \"b@u\": \"back at you\",\n",
        "    \"bae\": \"before anyone else\",\n",
        "    \"bak\": \"back at keyboard\",\n",
        "    \"bbbg\": \"bye bye be good\",\n",
        "    \"bbc\": \"british broadcasting corporation\",\n",
        "    \"bbias\": \"be back in a second\",\n",
        "    \"bbl\": \"be back later\",\n",
        "    \"bbs\": \"be back soon\",\n",
        "    \"be4\": \"before\",\n",
        "    \"bfn\": \"bye for now\",\n",
        "    \"blvd\": \"boulevard\",\n",
        "    \"bout\": \"about\",\n",
        "    \"brb\": \"be right back\",\n",
        "    \"bros\": \"brothers\",\n",
        "    \"brt\": \"be right there\",\n",
        "    \"bsaaw\": \"big smile and a wink\",\n",
        "    \"btw\": \"by the way\",\n",
        "    \"bwl\": \"bursting with laughter\",\n",
        "    \"c/o\": \"care of\",\n",
        "    \"cet\": \"central european time\",\n",
        "    \"cf\": \"compare\",\n",
        "    \"cia\": \"central intelligence agency\",\n",
        "    \"csl\": \"can not stop laughing\",\n",
        "    \"cu\": \"see you\",\n",
        "    \"cul8r\": \"see you later\",\n",
        "    \"cv\": \"curriculum vitae\",\n",
        "    \"cwot\": \"complete waste of time\",\n",
        "    \"cya\": \"see you\",\n",
        "    \"cyt\": \"see you tomorrow\",\n",
        "    \"dae\": \"does anyone else\",\n",
        "    \"dbmib\": \"do not bother me i am busy\",\n",
        "    \"diy\": \"do it yourself\",\n",
        "    \"dm\": \"direct message\",\n",
        "    \"dwh\": \"during work hours\",\n",
        "    \"e123\": \"easy as one two three\",\n",
        "    \"eet\": \"eastern european time\",\n",
        "    \"eg\": \"example\",\n",
        "    \"embm\": \"early morning business meeting\",\n",
        "    \"encl\": \"enclosed\",\n",
        "    \"encl.\": \"enclosed\",\n",
        "    \"etc\": \"and so on\",\n",
        "    \"faq\": \"frequently asked questions\",\n",
        "    \"fawc\": \"for anyone who cares\",\n",
        "    \"fb\": \"facebook\",\n",
        "    \"fc\": \"fingers crossed\",\n",
        "    \"fig\": \"figure\",\n",
        "    \"fimh\": \"forever in my heart\",\n",
        "    \"ft.\": \"feet\",\n",
        "    \"ft\": \"featuring\",\n",
        "    \"ftl\": \"for the loss\",\n",
        "    \"ftw\": \"for the win\",\n",
        "    \"fwiw\": \"for what it is worth\",\n",
        "    \"fyi\": \"for your information\",\n",
        "    \"g9\": \"genius\",\n",
        "    \"gahoy\": \"get a hold of yourself\",\n",
        "    \"gal\": \"get a life\",\n",
        "    \"gcse\": \"general certificate of secondary education\",\n",
        "    \"gfn\": \"gone for now\",\n",
        "    \"gg\": \"good game\",\n",
        "    \"gl\": \"good luck\",\n",
        "    \"glhf\": \"good luck have fun\",\n",
        "    \"gmt\": \"greenwich mean time\",\n",
        "    \"gmta\": \"great minds think alike\",\n",
        "    \"gn\": \"good night\",\n",
        "    \"g.o.a.t\": \"greatest of all time\",\n",
        "    \"goat\": \"greatest of all time\",\n",
        "    \"goi\": \"get over it\",\n",
        "    \"gps\": \"global positioning system\",\n",
        "    \"gr8\": \"great\",\n",
        "    \"gratz\": \"congratulations\",\n",
        "    \"gyal\": \"girl\",\n",
        "    \"h&c\": \"hot and cold\",\n",
        "    \"hp\": \"horsepower\",\n",
        "    \"hr\": \"hour\",\n",
        "    \"hrh\": \"his royal highness\",\n",
        "    \"ht\": \"height\",\n",
        "    \"ibrb\": \"i will be right back\",\n",
        "    \"ic\": \"i see\",\n",
        "    \"icq\": \"i seek you\",\n",
        "    \"icymi\": \"in case you missed it\",\n",
        "    \"idc\": \"i do not care\",\n",
        "    \"idgadf\": \"i do not give a damn fuck\",\n",
        "    \"idgaf\": \"i do not give a fuck\",\n",
        "    \"idk\": \"i do not know\",\n",
        "    \"ie\": \"that is\",\n",
        "    \"i.e\": \"that is\",\n",
        "    \"ifyp\": \"i feel your pain\",\n",
        "    \"IG\": \"instagram\",\n",
        "    \"iirc\": \"if i remember correctly\",\n",
        "    \"ilu\": \"i love you\",\n",
        "    \"ily\": \"i love you\",\n",
        "    \"imho\": \"in my humble opinion\",\n",
        "    \"imo\": \"in my opinion\",\n",
        "    \"imu\": \"i miss you\",\n",
        "    \"iow\": \"in other words\",\n",
        "    \"irl\": \"in real life\",\n",
        "    \"j4f\": \"just for fun\",\n",
        "    \"jic\": \"just in case\",\n",
        "    \"jk\": \"just kidding\",\n",
        "    \"jsyk\": \"just so you know\",\n",
        "    \"l8r\": \"later\",\n",
        "    \"lb\": \"pound\",\n",
        "    \"lbs\": \"pounds\",\n",
        "    \"ldr\": \"long distance relationship\",\n",
        "    \"lmao\": \"laugh my ass off\",\n",
        "    \"lmfao\": \"laugh my fucking ass off\",\n",
        "    \"lol\": \"laughing out loud\",\n",
        "    \"ltd\": \"limited\",\n",
        "    \"ltns\": \"long time no see\",\n",
        "    \"m8\": \"mate\",\n",
        "    \"mf\": \"motherfucker\",\n",
        "    \"mfs\": \"motherfuckers\",\n",
        "    \"mfw\": \"my face when\",\n",
        "    \"mofo\": \"motherfucker\",\n",
        "    \"mph\": \"miles per hour\",\n",
        "    \"mr\": \"mister\",\n",
        "    \"mrw\": \"my reaction when\",\n",
        "    \"ms\": \"miss\",\n",
        "    \"mte\": \"my thoughts exactly\",\n",
        "    \"nagi\": \"not a good idea\",\n",
        "    \"nbc\": \"national broadcasting company\",\n",
        "    \"nbd\": \"not big deal\",\n",
        "    \"nfs\": \"not for sale\",\n",
        "    \"ngl\": \"not going to lie\",\n",
        "    \"nhs\": \"national health service\",\n",
        "    \"nrn\": \"no reply necessary\",\n",
        "    \"nsfl\": \"not safe for life\",\n",
        "    \"nsfw\": \"not safe for work\",\n",
        "    \"nth\": \"nice to have\",\n",
        "    \"nvr\": \"never\",\n",
        "    \"nyc\": \"new york city\",\n",
        "    \"oc\": \"original content\",\n",
        "    \"og\": \"original\",\n",
        "    \"ohp\": \"overhead projector\",\n",
        "    \"oic\": \"oh i see\",\n",
        "    \"omdb\": \"over my dead body\",\n",
        "    \"omg\": \"oh my god\",\n",
        "    \"omw\": \"on my way\",\n",
        "    \"p.a\": \"per annum\",\n",
        "    \"p.m\": \"after midday\",\n",
        "    \"pm\": \"prime minister\",\n",
        "    \"poc\": \"people of color\",\n",
        "    \"pov\": \"point of view\",\n",
        "    \"pp\": \"pages\",\n",
        "    \"ppl\": \"people\",\n",
        "    \"prw\": \"parents are watching\",\n",
        "    \"ps\": \"postscript\",\n",
        "    \"pt\": \"point\",\n",
        "    \"ptb\": \"please text back\",\n",
        "    \"pto\": \"please turn over\",\n",
        "    \"qpsa\": \"what happens\",  # \"que pasa\",\n",
        "    \"ratchet\": \"rude\",\n",
        "    \"rbtl\": \"read between the lines\",\n",
        "    \"rlrt\": \"real life retweet\",\n",
        "    \"rofl\": \"rolling on the floor laughing\",\n",
        "    \"roflol\": \"rolling on the floor laughing out loud\",\n",
        "    \"rotflmao\": \"rolling on the floor laughing my ass off\",\n",
        "    \"rt\": \"retweet\",\n",
        "    \"ruok\": \"are you ok\",\n",
        "    \"sfw\": \"safe for work\",\n",
        "    \"sk8\": \"skate\",\n",
        "    \"smh\": \"shake my head\",\n",
        "    \"sq\": \"square\",\n",
        "    \"srsly\": \"seriously\",\n",
        "    \"ssdd\": \"same stuff different day\",\n",
        "    \"tbh\": \"to be honest\",\n",
        "    \"tbs\": \"tablespooful\",\n",
        "    \"tbsp\": \"tablespooful\",\n",
        "    \"tfw\": \"that feeling when\",\n",
        "    \"thks\": \"thank you\",\n",
        "    \"tho\": \"though\",\n",
        "    \"thx\": \"thank you\",\n",
        "    \"tia\": \"thanks in advance\",\n",
        "    \"til\": \"today i learned\",\n",
        "    \"tl;dr\": \"too long i did not read\",\n",
        "    \"tldr\": \"too long i did not read\",\n",
        "    \"tmb\": \"tweet me back\",\n",
        "    \"tntl\": \"trying not to laugh\",\n",
        "    \"ttyl\": \"talk to you later\",\n",
        "    \"u\": \"you\",\n",
        "    \"u2\": \"you too\",\n",
        "    \"u4e\": \"yours for ever\",\n",
        "    \"utc\": \"coordinated universal time\",\n",
        "    \"w/\": \"with\",\n",
        "    \"w/o\": \"without\",\n",
        "    \"w8\": \"wait\",\n",
        "    \"wassup\": \"what is up\",\n",
        "    \"wb\": \"welcome back\",\n",
        "    \"wtf\": \"what the fuck\",\n",
        "    \"wtg\": \"way to go\",\n",
        "    \"wtpa\": \"where the party at\",\n",
        "    \"wuf\": \"where are you from\",\n",
        "    \"wuzup\": \"what is up\",\n",
        "    \"wywh\": \"wish you were here\",\n",
        "    \"yd\": \"yard\",\n",
        "    \"ygtr\": \"you got that right\",\n",
        "    \"ynk\": \"you never know\",\n",
        "    \"zzz\": \"sleeping bored and tired\"\n",
        "}\n",
        "\n",
        "# fonctions de nettoyage des abbreviations\n",
        "\n",
        "\n",
        "def word_abbrev(word):\n",
        "    return abbreviations[word.lower()] if word.lower() in abbreviations.keys() else word\n",
        "\n",
        "\n",
        "def replace_abbrev(text):\n",
        "    string = \"\"\n",
        "    for word in text.split():\n",
        "        string += word_abbrev(word) + \" \"\n",
        "    return string\n",
        "\n",
        "# fonctions de nettoyage des ponctuations\n",
        "\n",
        "\n",
        "def spacing_punctuation(text):\n",
        "    for punc in all_punct:\n",
        "        if punc in text:\n",
        "            text = text.replace(punc, f' {punc} ')\n",
        "    return text\n",
        "\n",
        "\n",
        "regular_punct = list(string.punctuation)\n",
        "extra_punct = [\n",
        "    ',', '.', '\"', ':', ')', '(', '!', '?', '|', ';', \"'\", '$', '&',\n",
        "    '/', '[', ']', '>', '%', '=', '#', '*', '+', '\\\\', '•',  '~', '@', '£',\n",
        "    '·', '_', '{', '}', '©', '^', '®', '`',  '<', '→', '°', '€', '™', '›',\n",
        "    '♥', '←', '×', '§', '″', '′', 'Â', '█', '½', 'à', '…', '“', '★', '”',\n",
        "    '–', '●', 'â', '►', '−', '¢', '²', '¬', '░', '¶', '↑', '±', '¿', '▾',\n",
        "    '═', '¦', '║', '―', '¥', '▓', '—', '‹', '─', '▒', '：', '¼', '⊕', '▼',\n",
        "    '▪', '†', '■', '’', '▀', '¨', '▄', '♫', '☆', 'é', '¯', '♦', '¤', '▲',\n",
        "    'è', '¸', '¾', 'Ã', '⋅', '‘', '∞', '∙', '）', '↓', '、', '│', '（', '»',\n",
        "    '，', '♪', '╩', '╚', '³', '・', '╦', '╣', '╔', '╗', '▬', '❤', 'ï', 'Ø',\n",
        "    '¹', '≤', '‡', '√', '«', '»', '´', 'º', '¾', '¡', '§', '£', '₤']\n",
        "all_punct = list(set(regular_punct + extra_punct))\n",
        "\n",
        "# fonctions de nettoyage des ponctuations\n",
        "\n",
        "\n",
        "def spacing_punctuation(text):\n",
        "    for punc in all_punct:\n",
        "        if punc in text:\n",
        "            text = text.replace(punc, f' {punc} ')\n",
        "    return text\n",
        "\n",
        "\n",
        "def remove_repeat_punct(text):\n",
        "    rep = re.compile(r'([!?.]){2,}')\n",
        "    return rep.sub(r'\\1 REPEAT', text)\n",
        "\n",
        "\n",
        "def remove_all_punct(text):\n",
        "    table = str.maketrans('', '', string.punctuation)\n",
        "    return text.translate(table)\n",
        "\n",
        "\n",
        "def remove_punct(text):\n",
        "    punctuations = '@#!?+&*[]-%.:/();$=><|{}^' + \"'`\"\n",
        "    for p in punctuations:\n",
        "        text = text.replace(p, f' {p} ')\n",
        "        text = text.replace('...', ' ... ')\n",
        "        if '...' not in text:\n",
        "            text = text.replace('..', ' ... ')\n",
        "    return text\n",
        "\n",
        "# fonction de nettoyage des urls\n",
        "\n",
        "\n",
        "def remove_URL(text):\n",
        "    url = re.compile(r'https?://\\S+|www\\.\\S+')\n",
        "    return url.sub(r'URL', text)\n",
        "\n",
        "# fonction de nettoyage des balises html\n",
        "\n",
        "\n",
        "def remove_HTML(text):\n",
        "    html = re.compile(r'<.*?>')\n",
        "    return html.sub(r'', text)\n",
        "\n",
        "# fonction de nettoyage des codes ASCII\n",
        "\n",
        "\n",
        "def remove_not_ASCII(text):\n",
        "    text = ''.join([word for word in text if word in string.printable])\n",
        "    return text\n",
        "\n",
        "# fonction de nettoyage des caractères de mentions\n",
        "\n",
        "\n",
        "def remove_mention(text):\n",
        "    at = re.compile(r'@\\S+')\n",
        "    return at.sub(r'USER', text)\n",
        "\n",
        "# fonction de nettoyage des numeros de telephone\n",
        "\n",
        "\n",
        "def remove_number(text):\n",
        "    num = re.compile(r'[-+]?[.\\d]*[\\d]+[:,.\\d]*')\n",
        "    return num.sub(r'NUMBER', text)\n",
        "\n",
        "# fonction de nettoyage des caractères spéciales\n",
        "\n",
        "\n",
        "def clean_special_patterns(text):\n",
        "    email_regex = re.compile(r\"[\\w.-]+@[\\w.-]+\")\n",
        "    url_regex = re.compile(r\"(http|www)[^\\s]+\")\n",
        "    date_regex = re.compile(r\"[\\d]{2,4}[ -/:]*[\\d]{2,4}([ -/:]*[\\d]{2,4})?\")\n",
        "    text = url_regex.sub(\"\", text)\n",
        "    text = email_regex.sub(\"\", text)\n",
        "    text = date_regex.sub(\"\", text)\n",
        "    return text.strip\n",
        "\n",
        "# fonction pour retirer les accents\n",
        "\n",
        "\n",
        "def remove_accents(text):\n",
        "    return unidecode(text)\n",
        "\n",
        "# fonction de correction sur anglais\n",
        "\n",
        "\n",
        "def correct_word(text):\n",
        "    if detect(text) == 'en':\n",
        "        return TextBlob(text).correct()\n",
        "    else:\n",
        "        return text\n",
        "\n",
        "# fonction globale de nettoyage\n",
        "\n",
        "\n",
        "def clean_text(text):\n",
        "    # Remove non text\n",
        "    text = remove_URL(text)\n",
        "    text = remove_HTML(text)\n",
        "    #text = remove_not_ASCII(text)\n",
        "    #text = clean_special_patterns(text)\n",
        "\n",
        "    # Lower text, replace abbreviations\n",
        "    text = str(text).lower()\n",
        "    text = remove_accents(text)\n",
        "    text = replace_abbrev(text)\n",
        "    text = remove_mention(text)\n",
        "    # Remove repeated puntuations / words\n",
        "\n",
        "    text = remove_repeat_punct(text)\n",
        "    text = remove_all_punct(text)\n",
        "    text = remove_punct(text)\n",
        "    return text\n",
        "\n",
        "\n",
        "# french\n",
        "def Preprocess_list_french(listofSentence, dicto='dictionnaire.txt'):\n",
        "    # Importation des packages\n",
        "\n",
        "    # Début du programme\n",
        "    debut = datetime.now()\n",
        "\n",
        "    # settings\n",
        "    stopwords = nltk.corpus.stopwords.words('french')\n",
        "    words = set(line.strip() for line in open(dicto, encoding=\"utf8\"))\n",
        "    lemmatizer = FrenchLefffLemmatizer()\n",
        "    preprocess_list = []\n",
        "\n",
        "    for sentence in listofSentence:\n",
        "\n",
        "        sentence_w_punct = \"\".join(\n",
        "            [i.lower() for i in sentence if i not in string.punctuation])\n",
        "\n",
        "        sentence_w_num = ''.join(\n",
        "            i for i in sentence_w_punct if not i.isdigit())\n",
        "\n",
        "        tokenize_sentence = word_tokenize(sentence_w_num)\n",
        "\n",
        "        words_w_stopwords = [\n",
        "            i for i in tokenize_sentence if i not in stopwords]\n",
        "\n",
        "        words_lemmatize = (lemmatizer.lemmatize(w) for w in words_w_stopwords)\n",
        "\n",
        "        sentence_clean = ' '.join(\n",
        "            w for w in words_lemmatize if w.lower() in words or not w.isalpha())\n",
        "\n",
        "        preprocess_list.append(sentence_clean)\n",
        "\n",
        "    # Fin du programme\n",
        "    print(\" \")\n",
        "    print(f'La durée de traitement est {str(datetime.now()-debut)} s')\n",
        "\n",
        "    return preprocess_list\n"
      ],
      "execution_count": 6,
      "outputs": []
    },
    {
      "cell_type": "code",
      "metadata": {
        "colab": {
          "base_uri": "https://localhost:8080/"
        },
        "id": "jD4xvu-I4HXY",
        "outputId": "15c4ed6e-b31e-41fc-a5c0-5a81591c5e89"
      },
      "source": [
        "df['pname'] = df['pname'].apply(clean_text)\n",
        "preprocess_list = Preprocess_list_french(df['pname'], dicto='/content/drive/MyDrive/datagram/data/dictionnaire.txt')\n",
        "df['text'] = preprocess_list"
      ],
      "execution_count": 7,
      "outputs": [
        {
          "output_type": "stream",
          "name": "stdout",
          "text": [
            " \n",
            "La durée de traitement est 0:00:27.968320 s\n"
          ]
        }
      ]
    },
    {
      "cell_type": "code",
      "metadata": {
        "id": "g08Zjlxo4Zj7"
      },
      "source": [
        "df['label'] = df['category_id']  "
      ],
      "execution_count": 8,
      "outputs": []
    },
    {
      "cell_type": "code",
      "metadata": {
        "id": "FpCLgCQA2bph"
      },
      "source": [
        "TRAIN_SIZE = 0.8\n",
        "MAX_NB_WORDS = 100000\n",
        "MAX_SEQUENCE_LENGTH = 25"
      ],
      "execution_count": 9,
      "outputs": []
    },
    {
      "cell_type": "code",
      "metadata": {
        "id": "_wfEHZlE2dy5",
        "colab": {
          "base_uri": "https://localhost:8080/"
        },
        "outputId": "cf0d956c-ed4c-49ad-ddce-f427ea26ec58"
      },
      "source": [
        "train_data, val_data = train_test_split(df, test_size=1-TRAIN_SIZE,\n",
        "                                         random_state=7) # Splits Dataset into Training and Testing set\n",
        "\n",
        "val_data = val_data.groupby('category_id').filter(lambda x : (x['category_id'].count()>=10).any())\n",
        "train_data = train_data.groupby('category_id').filter(lambda x : (x['category_id'].count()>=10).any())                               \n",
        "print(\"Train Data size:\", len(train_data))\n",
        "print(\"Test Data size\", len(val_data))"
      ],
      "execution_count": 10,
      "outputs": [
        {
          "output_type": "stream",
          "name": "stdout",
          "text": [
            "Train Data size: 129504\n",
            "Test Data size 32205\n"
          ]
        }
      ]
    },
    {
      "cell_type": "code",
      "metadata": {
        "id": "FLjZamwG2fXx",
        "colab": {
          "base_uri": "https://localhost:8080/",
          "height": 363
        },
        "outputId": "05e9e020-b127-45fb-ccba-22cb6db5ad58"
      },
      "source": [
        "train_data.head(10)"
      ],
      "execution_count": 11,
      "outputs": [
        {
          "output_type": "execute_result",
          "data": {
            "text/html": [
              "<div>\n",
              "<style scoped>\n",
              "    .dataframe tbody tr th:only-of-type {\n",
              "        vertical-align: middle;\n",
              "    }\n",
              "\n",
              "    .dataframe tbody tr th {\n",
              "        vertical-align: top;\n",
              "    }\n",
              "\n",
              "    .dataframe thead th {\n",
              "        text-align: right;\n",
              "    }\n",
              "</style>\n",
              "<table border=\"1\" class=\"dataframe\">\n",
              "  <thead>\n",
              "    <tr style=\"text-align: right;\">\n",
              "      <th></th>\n",
              "      <th>category_id</th>\n",
              "      <th>pname</th>\n",
              "      <th>text</th>\n",
              "      <th>label</th>\n",
              "    </tr>\n",
              "  </thead>\n",
              "  <tbody>\n",
              "    <tr>\n",
              "      <th>27381</th>\n",
              "      <td>377</td>\n",
              "      <td>fines mousses au saumonpouletdinderognons pour...</td>\n",
              "      <td>fine mousse chat</td>\n",
              "      <td>377</td>\n",
              "    </tr>\n",
              "    <tr>\n",
              "      <th>158645</th>\n",
              "      <td>393</td>\n",
              "      <td>haricots beurre extrafins daucy 2x44 880g</td>\n",
              "      <td>haricot beurre gramme</td>\n",
              "      <td>393</td>\n",
              "    </tr>\n",
              "    <tr>\n",
              "      <th>44090</th>\n",
              "      <td>349</td>\n",
              "      <td>savon detachant ecologique a lhuile dolive bio...</td>\n",
              "      <td>savon a lot savon gramme</td>\n",
              "      <td>349</td>\n",
              "    </tr>\n",
              "    <tr>\n",
              "      <th>23089</th>\n",
              "      <td>467</td>\n",
              "      <td>bleu des neiges 500g</td>\n",
              "      <td>bleu neige gramme</td>\n",
              "      <td>467</td>\n",
              "    </tr>\n",
              "    <tr>\n",
              "      <th>161552</th>\n",
              "      <td>386</td>\n",
              "      <td>olives vertes farcies au poivron gout piment</td>\n",
              "      <td>olive verte farcies poivron piment</td>\n",
              "      <td>386</td>\n",
              "    </tr>\n",
              "    <tr>\n",
              "      <th>49802</th>\n",
              "      <td>610</td>\n",
              "      <td>mouchoirs</td>\n",
              "      <td>mouchoir</td>\n",
              "      <td>610</td>\n",
              "    </tr>\n",
              "    <tr>\n",
              "      <th>11173</th>\n",
              "      <td>526</td>\n",
              "      <td>tarte au chocolat pierron 400g</td>\n",
              "      <td>tarte chocolat gramme</td>\n",
              "      <td>526</td>\n",
              "    </tr>\n",
              "    <tr>\n",
              "      <th>87452</th>\n",
              "      <td>363</td>\n",
              "      <td>trousse petit modele ca612 dessange</td>\n",
              "      <td>trousse petit</td>\n",
              "      <td>363</td>\n",
              "    </tr>\n",
              "    <tr>\n",
              "      <th>116463</th>\n",
              "      <td>600</td>\n",
              "      <td>rasoir pour homme sensitive skinguard gillette...</td>\n",
              "      <td>rasoir homme sensitive</td>\n",
              "      <td>600</td>\n",
              "    </tr>\n",
              "    <tr>\n",
              "      <th>102295</th>\n",
              "      <td>597</td>\n",
              "      <td>gel douche tonifiant natura siberica 400ml</td>\n",
              "      <td>gel douche tonifiant millilitre</td>\n",
              "      <td>597</td>\n",
              "    </tr>\n",
              "  </tbody>\n",
              "</table>\n",
              "</div>"
            ],
            "text/plain": [
              "        category_id  ... label\n",
              "27381           377  ...   377\n",
              "158645          393  ...   393\n",
              "44090           349  ...   349\n",
              "23089           467  ...   467\n",
              "161552          386  ...   386\n",
              "49802           610  ...   610\n",
              "11173           526  ...   526\n",
              "87452           363  ...   363\n",
              "116463          600  ...   600\n",
              "102295          597  ...   597\n",
              "\n",
              "[10 rows x 4 columns]"
            ]
          },
          "metadata": {},
          "execution_count": 11
        }
      ]
    },
    {
      "cell_type": "code",
      "metadata": {
        "id": "vbKZwRWa2rU7",
        "colab": {
          "base_uri": "https://localhost:8080/"
        },
        "outputId": "5b6fc35d-b3ab-424c-e589-e5641087fc5a"
      },
      "source": [
        "tokenizer = Tokenizer()\n",
        "tokenizer.fit_on_texts(train_data.text)\n",
        "\n",
        "word_index = tokenizer.word_index\n",
        "vocab_size = len(tokenizer.word_index) + 1\n",
        "print(\"Vocabulary Size :\", vocab_size)"
      ],
      "execution_count": 12,
      "outputs": [
        {
          "output_type": "stream",
          "name": "stdout",
          "text": [
            "Vocabulary Size : 4749\n"
          ]
        }
      ]
    },
    {
      "cell_type": "code",
      "metadata": {
        "id": "cF0cCYC62uAI",
        "colab": {
          "base_uri": "https://localhost:8080/"
        },
        "outputId": "ae99699b-42ae-4d0c-8c3b-1ee4ac37f23f"
      },
      "source": [
        "x_train = pad_sequences(tokenizer.texts_to_sequences(train_data.text),\n",
        "                        maxlen = MAX_SEQUENCE_LENGTH)\n",
        "x_test = pad_sequences(tokenizer.texts_to_sequences(val_data.text),\n",
        "                       maxlen = MAX_SEQUENCE_LENGTH)\n",
        "\n",
        "print(\"Training X Shape:\",x_train.shape)\n",
        "print(\"Testing X Shape:\",x_test.shape)"
      ],
      "execution_count": 13,
      "outputs": [
        {
          "output_type": "stream",
          "name": "stdout",
          "text": [
            "Training X Shape: (129504, 25)\n",
            "Testing X Shape: (32205, 25)\n"
          ]
        }
      ]
    },
    {
      "cell_type": "code",
      "metadata": {
        "id": "FJmhPsoE2xAq"
      },
      "source": [
        "labels = train_data.label.unique().tolist() "
      ],
      "execution_count": 14,
      "outputs": []
    },
    {
      "cell_type": "code",
      "metadata": {
        "id": "CwzmdjMB2zKT",
        "colab": {
          "base_uri": "https://localhost:8080/"
        },
        "outputId": "f1a7edbd-ddb3-4247-a587-8b34b9ad7984"
      },
      "source": [
        "encoder = LabelEncoder()\n",
        "encoder.fit(train_data.label.to_list())\n",
        "\n",
        "y_train = encoder.transform(train_data.label.to_list())\n",
        "y_test = encoder.transform(val_data.label.to_list())\n",
        "\n",
        "y_train = y_train.reshape(-1,1)\n",
        "y_test = y_test.reshape(-1,1)\n",
        "\n",
        "print(\"y_train shape:\", y_train.shape)\n",
        "print(\"y_test shape:\", y_test.shape)"
      ],
      "execution_count": 15,
      "outputs": [
        {
          "output_type": "stream",
          "name": "stdout",
          "text": [
            "y_train shape: (129504, 1)\n",
            "y_test shape: (32205, 1)\n"
          ]
        }
      ]
    },
    {
      "cell_type": "code",
      "metadata": {
        "id": "xpflnyNl20-C",
        "colab": {
          "base_uri": "https://localhost:8080/"
        },
        "outputId": "6e99c213-5a44-4805-c97d-25caac6e6230"
      },
      "source": [
        "!wget http://nlp.stanford.edu/data/glove.6B.zip\n",
        "!unzip glove.6B.zip"
      ],
      "execution_count": 16,
      "outputs": [
        {
          "output_type": "stream",
          "name": "stdout",
          "text": [
            "\n"
          ]
        }
      ]
    },
    {
      "cell_type": "code",
      "metadata": {
        "id": "I2BD_YcmE7Oo"
      },
      "source": [
        "EMBEDDING_DIM = 300\n",
        "LR = 1e-3\n",
        "BATCH_SIZE = 1024\n",
        "EPOCHS = 100"
      ],
      "execution_count": 36,
      "outputs": []
    },
    {
      "cell_type": "code",
      "metadata": {
        "id": "gvws1aWI23Aj"
      },
      "source": [
        "GLOVE_EMB = '/content/glove.6B.300d.txt'"
      ],
      "execution_count": 17,
      "outputs": []
    },
    {
      "cell_type": "code",
      "metadata": {
        "id": "9M7c5ngg324Q",
        "colab": {
          "base_uri": "https://localhost:8080/"
        },
        "outputId": "671a9176-4f48-479c-c4b1-20e9158246e2"
      },
      "source": [
        "embeddings_index = {}\n",
        "\n",
        "f = open(GLOVE_EMB)\n",
        "for line in f:\n",
        "  values = line.split()\n",
        "  \n",
        "  word = value = values[0]\n",
        "  coefs = np.asarray(values[1:], dtype='float32')\n",
        "  embeddings_index[word] = coefs\n",
        "f.close()\n",
        "\n",
        "print('Found %s word vectors.' %len(embeddings_index))"
      ],
      "execution_count": 18,
      "outputs": [
        {
          "output_type": "stream",
          "name": "stdout",
          "text": [
            "Found 400000 word vectors.\n"
          ]
        }
      ]
    },
    {
      "cell_type": "code",
      "metadata": {
        "id": "B2auYeto364c"
      },
      "source": [
        "embedding_matrix = np.zeros((vocab_size, EMBEDDING_DIM))\n",
        "for word, i in word_index.items():\n",
        "  embedding_vector = embeddings_index.get(word)\n",
        "  if embedding_vector is not None:\n",
        "    embedding_matrix[i] = embedding_vector"
      ],
      "execution_count": 19,
      "outputs": []
    },
    {
      "cell_type": "code",
      "metadata": {
        "id": "N4g2k7NH4IEK"
      },
      "source": [
        "embedding_layer = tf.keras.layers.Embedding(vocab_size,\n",
        "                                          EMBEDDING_DIM,\n",
        "                                          weights=[embedding_matrix],\n",
        "                                          input_length=MAX_SEQUENCE_LENGTH,\n",
        "                                          trainable=False)"
      ],
      "execution_count": 20,
      "outputs": []
    },
    {
      "cell_type": "code",
      "metadata": {
        "id": "hN8xtMhc4NUz",
        "colab": {
          "base_uri": "https://localhost:8080/"
        },
        "outputId": "814add5a-e279-4343-81d5-3c1ed77e382f"
      },
      "source": [
        "sequence_input = Input(shape=(MAX_SEQUENCE_LENGTH,), dtype='int32')\n",
        "embedding_sequences = embedding_layer(sequence_input)\n",
        "x = SpatialDropout1D(0.2)(embedding_sequences)\n",
        "x = Conv1D(64, 5, activation='relu')(x)\n",
        "x = Bidirectional(LSTM(64, dropout=0.2, recurrent_dropout=0.2))(x)\n",
        "x = Dense(512, activation='relu')(x)\n",
        "x = Dropout(0.5)(x)\n",
        "x = Dense(512, activation='relu')(x)\n",
        "outputs = Dense(len(labels), activation='sigmoid')(x)\n",
        "model = tf.keras.Model(sequence_input, outputs)"
      ],
      "execution_count": 21,
      "outputs": [
        {
          "output_type": "stream",
          "name": "stdout",
          "text": [
            "WARNING:tensorflow:Layer lstm will not use cuDNN kernels since it doesn't meet the criteria. It will use a generic GPU kernel as fallback when running on GPU.\n",
            "WARNING:tensorflow:Layer lstm will not use cuDNN kernels since it doesn't meet the criteria. It will use a generic GPU kernel as fallback when running on GPU.\n",
            "WARNING:tensorflow:Layer lstm will not use cuDNN kernels since it doesn't meet the criteria. It will use a generic GPU kernel as fallback when running on GPU.\n"
          ]
        }
      ]
    },
    {
      "cell_type": "code",
      "metadata": {
        "id": "vMdxkci7n3yH"
      },
      "source": [
        ""
      ],
      "execution_count": 21,
      "outputs": []
    },
    {
      "cell_type": "code",
      "metadata": {
        "id": "1H_fd2sL4Pnv"
      },
      "source": [
        "\n",
        "model.compile(optimizer=Adam(learning_rate=LR), loss='SparseCategoricalCrossentropy',\n",
        "              metrics=['accuracy'])\n",
        "ReduceLROnPlateau = ReduceLROnPlateau(factor=0.1,\n",
        "                                     min_lr = 0.01,\n",
        "                                     monitor = 'val_loss',\n",
        "                                     verbose = 1)"
      ],
      "execution_count": 22,
      "outputs": []
    },
    {
      "cell_type": "code",
      "metadata": {
        "id": "9kZWwp0Y4TDu",
        "colab": {
          "base_uri": "https://localhost:8080/"
        },
        "outputId": "7939c748-c0bc-416a-997d-857adab7d75e"
      },
      "source": [
        "print(\"Training on GPU...\") if tf.test.is_gpu_available() else print(\"Training on CPU...\")"
      ],
      "execution_count": 23,
      "outputs": [
        {
          "output_type": "stream",
          "name": "stdout",
          "text": [
            "WARNING:tensorflow:From <ipython-input-23-d4a4e34b7f9f>:1: is_gpu_available (from tensorflow.python.framework.test_util) is deprecated and will be removed in a future version.\n",
            "Instructions for updating:\n",
            "Use `tf.config.list_physical_devices('GPU')` instead.\n",
            "Training on GPU...\n"
          ]
        }
      ]
    },
    {
      "cell_type": "code",
      "metadata": {
        "id": "c3WHp5M84Xev",
        "colab": {
          "base_uri": "https://localhost:8080/"
        },
        "outputId": "71941458-c649-4364-bb30-c41e7fdc8afb"
      },
      "source": [
        "history = model.fit(x_train, y_train, batch_size=BATCH_SIZE, epochs=EPOCHS,\n",
        "                    validation_data=(x_test, y_test), callbacks=[ReduceLROnPlateau])"
      ],
      "execution_count": 37,
      "outputs": [
        {
          "output_type": "stream",
          "name": "stdout",
          "text": [
            "Epoch 1/100\n",
            "127/127 [==============================] - 49s 389ms/step - loss: 1.2927 - accuracy: 0.6654 - val_loss: 1.3157 - val_accuracy: 0.6808\n",
            "Epoch 2/100\n",
            "127/127 [==============================] - 48s 378ms/step - loss: 1.2886 - accuracy: 0.6667 - val_loss: 1.3200 - val_accuracy: 0.6797\n",
            "Epoch 3/100\n",
            "127/127 [==============================] - 49s 382ms/step - loss: 1.2886 - accuracy: 0.6658 - val_loss: 1.3137 - val_accuracy: 0.6802\n",
            "Epoch 4/100\n",
            "127/127 [==============================] - 47s 369ms/step - loss: 1.2841 - accuracy: 0.6653 - val_loss: 1.3153 - val_accuracy: 0.6811\n",
            "Epoch 5/100\n",
            "127/127 [==============================] - 46s 363ms/step - loss: 1.2802 - accuracy: 0.6681 - val_loss: 1.3120 - val_accuracy: 0.6800\n",
            "Epoch 6/100\n",
            "127/127 [==============================] - 47s 373ms/step - loss: 1.2775 - accuracy: 0.6681 - val_loss: 1.3101 - val_accuracy: 0.6812\n",
            "Epoch 7/100\n",
            "127/127 [==============================] - 47s 367ms/step - loss: 1.2756 - accuracy: 0.6688 - val_loss: 1.3087 - val_accuracy: 0.6825\n",
            "Epoch 8/100\n",
            "127/127 [==============================] - 48s 379ms/step - loss: 1.2735 - accuracy: 0.6694 - val_loss: 1.3032 - val_accuracy: 0.6820\n",
            "Epoch 9/100\n",
            "127/127 [==============================] - 48s 377ms/step - loss: 1.2682 - accuracy: 0.6704 - val_loss: 1.3093 - val_accuracy: 0.6816\n",
            "Epoch 10/100\n",
            "127/127 [==============================] - 47s 372ms/step - loss: 1.2664 - accuracy: 0.6701 - val_loss: 1.3035 - val_accuracy: 0.6841\n",
            "Epoch 11/100\n",
            "127/127 [==============================] - 48s 376ms/step - loss: 1.2651 - accuracy: 0.6703 - val_loss: 1.3065 - val_accuracy: 0.6827\n",
            "Epoch 12/100\n",
            "127/127 [==============================] - 47s 371ms/step - loss: 1.2596 - accuracy: 0.6716 - val_loss: 1.3025 - val_accuracy: 0.6835\n",
            "Epoch 13/100\n",
            "127/127 [==============================] - 49s 384ms/step - loss: 1.2611 - accuracy: 0.6709 - val_loss: 1.3063 - val_accuracy: 0.6823\n",
            "Epoch 14/100\n",
            "127/127 [==============================] - 48s 381ms/step - loss: 1.2607 - accuracy: 0.6702 - val_loss: 1.3025 - val_accuracy: 0.6849\n",
            "Epoch 15/100\n",
            "127/127 [==============================] - 47s 373ms/step - loss: 1.2545 - accuracy: 0.6724 - val_loss: 1.3049 - val_accuracy: 0.6852\n",
            "Epoch 16/100\n",
            "127/127 [==============================] - 48s 381ms/step - loss: 1.2474 - accuracy: 0.6744 - val_loss: 1.2990 - val_accuracy: 0.6835\n",
            "Epoch 17/100\n",
            "127/127 [==============================] - 47s 373ms/step - loss: 1.2480 - accuracy: 0.6737 - val_loss: 1.2985 - val_accuracy: 0.6830\n",
            "Epoch 18/100\n",
            "127/127 [==============================] - 48s 380ms/step - loss: 1.2434 - accuracy: 0.6743 - val_loss: 1.3027 - val_accuracy: 0.6846\n",
            "Epoch 19/100\n",
            "127/127 [==============================] - 49s 384ms/step - loss: 1.2422 - accuracy: 0.6760 - val_loss: 1.2979 - val_accuracy: 0.6856\n",
            "Epoch 20/100\n",
            "127/127 [==============================] - 49s 387ms/step - loss: 1.2383 - accuracy: 0.6749 - val_loss: 1.3004 - val_accuracy: 0.6848\n",
            "Epoch 21/100\n",
            "127/127 [==============================] - 48s 381ms/step - loss: 1.2418 - accuracy: 0.6745 - val_loss: 1.3003 - val_accuracy: 0.6844\n",
            "Epoch 22/100\n",
            "127/127 [==============================] - 49s 383ms/step - loss: 1.2353 - accuracy: 0.6763 - val_loss: 1.2979 - val_accuracy: 0.6827\n",
            "Epoch 23/100\n",
            "127/127 [==============================] - 49s 383ms/step - loss: 1.2338 - accuracy: 0.6762 - val_loss: 1.2927 - val_accuracy: 0.6860\n",
            "Epoch 24/100\n",
            "127/127 [==============================] - 48s 381ms/step - loss: 1.2333 - accuracy: 0.6774 - val_loss: 1.2997 - val_accuracy: 0.6829\n",
            "Epoch 25/100\n",
            "127/127 [==============================] - 47s 374ms/step - loss: 1.2281 - accuracy: 0.6771 - val_loss: 1.2937 - val_accuracy: 0.6865\n",
            "Epoch 26/100\n",
            "127/127 [==============================] - 48s 381ms/step - loss: 1.2276 - accuracy: 0.6773 - val_loss: 1.2920 - val_accuracy: 0.6855\n",
            "Epoch 27/100\n",
            "127/127 [==============================] - 49s 383ms/step - loss: 1.2287 - accuracy: 0.6787 - val_loss: 1.2943 - val_accuracy: 0.6873\n",
            "Epoch 28/100\n",
            "127/127 [==============================] - 48s 378ms/step - loss: 1.2242 - accuracy: 0.6786 - val_loss: 1.2991 - val_accuracy: 0.6826\n",
            "Epoch 29/100\n",
            "127/127 [==============================] - 48s 374ms/step - loss: 1.2209 - accuracy: 0.6801 - val_loss: 1.2902 - val_accuracy: 0.6881\n",
            "Epoch 30/100\n",
            "127/127 [==============================] - 49s 387ms/step - loss: 1.2204 - accuracy: 0.6800 - val_loss: 1.2944 - val_accuracy: 0.6868\n",
            "Epoch 31/100\n",
            "127/127 [==============================] - 47s 371ms/step - loss: 1.2203 - accuracy: 0.6796 - val_loss: 1.2867 - val_accuracy: 0.6881\n",
            "Epoch 32/100\n",
            "127/127 [==============================] - 48s 377ms/step - loss: 1.2139 - accuracy: 0.6817 - val_loss: 1.2933 - val_accuracy: 0.6877\n",
            "Epoch 33/100\n",
            "127/127 [==============================] - 49s 389ms/step - loss: 1.2143 - accuracy: 0.6817 - val_loss: 1.2873 - val_accuracy: 0.6886\n",
            "Epoch 34/100\n",
            "127/127 [==============================] - 49s 382ms/step - loss: 1.2136 - accuracy: 0.6808 - val_loss: 1.2864 - val_accuracy: 0.6864\n",
            "Epoch 35/100\n",
            "127/127 [==============================] - 48s 375ms/step - loss: 1.2100 - accuracy: 0.6816 - val_loss: 1.2951 - val_accuracy: 0.6867\n",
            "Epoch 36/100\n",
            "127/127 [==============================] - 49s 389ms/step - loss: 1.2107 - accuracy: 0.6814 - val_loss: 1.2877 - val_accuracy: 0.6870\n",
            "Epoch 37/100\n",
            "127/127 [==============================] - 50s 390ms/step - loss: 1.2048 - accuracy: 0.6830 - val_loss: 1.2924 - val_accuracy: 0.6859\n",
            "Epoch 38/100\n",
            "127/127 [==============================] - 48s 375ms/step - loss: 1.2080 - accuracy: 0.6818 - val_loss: 1.2848 - val_accuracy: 0.6894\n",
            "Epoch 39/100\n",
            "127/127 [==============================] - 48s 380ms/step - loss: 1.2037 - accuracy: 0.6824 - val_loss: 1.2863 - val_accuracy: 0.6894\n",
            "Epoch 40/100\n",
            "127/127 [==============================] - 47s 372ms/step - loss: 1.2009 - accuracy: 0.6833 - val_loss: 1.2856 - val_accuracy: 0.6909\n",
            "Epoch 41/100\n",
            "127/127 [==============================] - 47s 373ms/step - loss: 1.2014 - accuracy: 0.6825 - val_loss: 1.2804 - val_accuracy: 0.6900\n",
            "Epoch 42/100\n",
            "127/127 [==============================] - 49s 385ms/step - loss: 1.2028 - accuracy: 0.6820 - val_loss: 1.2815 - val_accuracy: 0.6889\n",
            "Epoch 43/100\n",
            "127/127 [==============================] - 49s 384ms/step - loss: 1.1992 - accuracy: 0.6833 - val_loss: 1.2815 - val_accuracy: 0.6881\n",
            "Epoch 44/100\n",
            "127/127 [==============================] - 47s 372ms/step - loss: 1.1970 - accuracy: 0.6840 - val_loss: 1.2891 - val_accuracy: 0.6895\n",
            "Epoch 45/100\n",
            "127/127 [==============================] - 47s 373ms/step - loss: 1.1899 - accuracy: 0.6866 - val_loss: 1.2846 - val_accuracy: 0.6887\n",
            "Epoch 46/100\n",
            "127/127 [==============================] - 47s 372ms/step - loss: 1.1893 - accuracy: 0.6851 - val_loss: 1.2816 - val_accuracy: 0.6924\n",
            "Epoch 47/100\n",
            "127/127 [==============================] - 47s 374ms/step - loss: 1.1894 - accuracy: 0.6855 - val_loss: 1.2850 - val_accuracy: 0.6894\n",
            "Epoch 48/100\n",
            "127/127 [==============================] - 48s 380ms/step - loss: 1.1893 - accuracy: 0.6848 - val_loss: 1.2813 - val_accuracy: 0.6894\n",
            "Epoch 49/100\n",
            "127/127 [==============================] - 47s 372ms/step - loss: 1.1875 - accuracy: 0.6859 - val_loss: 1.2820 - val_accuracy: 0.6915\n",
            "Epoch 50/100\n",
            "127/127 [==============================] - 47s 371ms/step - loss: 1.1885 - accuracy: 0.6858 - val_loss: 1.2855 - val_accuracy: 0.6896\n",
            "Epoch 51/100\n",
            "127/127 [==============================] - 48s 376ms/step - loss: 1.1844 - accuracy: 0.6864 - val_loss: 1.2822 - val_accuracy: 0.6906\n",
            "Epoch 52/100\n",
            "127/127 [==============================] - 48s 378ms/step - loss: 1.1828 - accuracy: 0.6883 - val_loss: 1.2805 - val_accuracy: 0.6924\n",
            "Epoch 53/100\n",
            "127/127 [==============================] - 48s 381ms/step - loss: 1.1797 - accuracy: 0.6884 - val_loss: 1.2832 - val_accuracy: 0.6918\n",
            "Epoch 54/100\n",
            "127/127 [==============================] - 48s 376ms/step - loss: 1.1832 - accuracy: 0.6876 - val_loss: 1.2765 - val_accuracy: 0.6905\n",
            "Epoch 55/100\n",
            "127/127 [==============================] - 48s 376ms/step - loss: 1.1805 - accuracy: 0.6869 - val_loss: 1.2790 - val_accuracy: 0.6907\n",
            "Epoch 56/100\n",
            "127/127 [==============================] - 47s 372ms/step - loss: 1.1737 - accuracy: 0.6886 - val_loss: 1.2835 - val_accuracy: 0.6914\n",
            "Epoch 57/100\n",
            "127/127 [==============================] - 48s 375ms/step - loss: 1.1766 - accuracy: 0.6892 - val_loss: 1.2776 - val_accuracy: 0.6903\n",
            "Epoch 58/100\n",
            "127/127 [==============================] - 48s 379ms/step - loss: 1.1748 - accuracy: 0.6886 - val_loss: 1.2776 - val_accuracy: 0.6901\n",
            "Epoch 59/100\n",
            "127/127 [==============================] - 47s 373ms/step - loss: 1.1735 - accuracy: 0.6882 - val_loss: 1.2812 - val_accuracy: 0.6887\n",
            "Epoch 60/100\n",
            "127/127 [==============================] - 48s 378ms/step - loss: 1.1730 - accuracy: 0.6889 - val_loss: 1.2799 - val_accuracy: 0.6919\n",
            "Epoch 61/100\n",
            "127/127 [==============================] - 48s 381ms/step - loss: 1.1690 - accuracy: 0.6895 - val_loss: 1.2801 - val_accuracy: 0.6915\n",
            "Epoch 62/100\n",
            "127/127 [==============================] - 48s 376ms/step - loss: 1.1730 - accuracy: 0.6894 - val_loss: 1.2792 - val_accuracy: 0.6910\n",
            "Epoch 63/100\n",
            "127/127 [==============================] - 48s 377ms/step - loss: 1.1680 - accuracy: 0.6899 - val_loss: 1.2761 - val_accuracy: 0.6923\n",
            "Epoch 64/100\n",
            "127/127 [==============================] - 48s 381ms/step - loss: 1.1664 - accuracy: 0.6911 - val_loss: 1.2820 - val_accuracy: 0.6914\n",
            "Epoch 65/100\n",
            "127/127 [==============================] - 48s 378ms/step - loss: 1.1667 - accuracy: 0.6912 - val_loss: 1.2801 - val_accuracy: 0.6923\n",
            "Epoch 66/100\n",
            "127/127 [==============================] - 48s 382ms/step - loss: 1.1691 - accuracy: 0.6903 - val_loss: 1.2749 - val_accuracy: 0.6902\n",
            "Epoch 67/100\n",
            "127/127 [==============================] - 48s 381ms/step - loss: 1.1607 - accuracy: 0.6916 - val_loss: 1.2735 - val_accuracy: 0.6925\n",
            "Epoch 68/100\n",
            "127/127 [==============================] - 48s 379ms/step - loss: 1.1607 - accuracy: 0.6927 - val_loss: 1.2729 - val_accuracy: 0.6941\n",
            "Epoch 69/100\n",
            "127/127 [==============================] - 49s 383ms/step - loss: 1.1579 - accuracy: 0.6923 - val_loss: 1.2841 - val_accuracy: 0.6922\n",
            "Epoch 70/100\n",
            "127/127 [==============================] - 47s 373ms/step - loss: 1.1639 - accuracy: 0.6915 - val_loss: 1.2707 - val_accuracy: 0.6935\n",
            "Epoch 71/100\n",
            "127/127 [==============================] - 48s 375ms/step - loss: 1.1592 - accuracy: 0.6926 - val_loss: 1.2736 - val_accuracy: 0.6930\n",
            "Epoch 72/100\n",
            "127/127 [==============================] - 48s 374ms/step - loss: 1.1551 - accuracy: 0.6929 - val_loss: 1.2794 - val_accuracy: 0.6926\n",
            "Epoch 73/100\n",
            "127/127 [==============================] - 48s 377ms/step - loss: 1.1533 - accuracy: 0.6934 - val_loss: 1.2700 - val_accuracy: 0.6925\n",
            "Epoch 74/100\n",
            "127/127 [==============================] - 48s 375ms/step - loss: 1.1541 - accuracy: 0.6922 - val_loss: 1.2709 - val_accuracy: 0.6941\n",
            "Epoch 75/100\n",
            "127/127 [==============================] - 48s 377ms/step - loss: 1.1553 - accuracy: 0.6922 - val_loss: 1.2766 - val_accuracy: 0.6946\n",
            "Epoch 76/100\n",
            "127/127 [==============================] - 48s 381ms/step - loss: 1.1546 - accuracy: 0.6916 - val_loss: 1.2743 - val_accuracy: 0.6923\n",
            "Epoch 77/100\n",
            "127/127 [==============================] - 48s 378ms/step - loss: 1.1547 - accuracy: 0.6929 - val_loss: 1.2727 - val_accuracy: 0.6923\n",
            "Epoch 78/100\n",
            "127/127 [==============================] - 48s 375ms/step - loss: 1.1534 - accuracy: 0.6917 - val_loss: 1.2758 - val_accuracy: 0.6939\n",
            "Epoch 79/100\n",
            "127/127 [==============================] - 48s 378ms/step - loss: 1.1516 - accuracy: 0.6931 - val_loss: 1.2709 - val_accuracy: 0.6939\n",
            "Epoch 80/100\n",
            "127/127 [==============================] - 49s 384ms/step - loss: 1.1521 - accuracy: 0.6929 - val_loss: 1.2686 - val_accuracy: 0.6946\n",
            "Epoch 81/100\n",
            "127/127 [==============================] - 48s 381ms/step - loss: 1.1476 - accuracy: 0.6938 - val_loss: 1.2723 - val_accuracy: 0.6943\n",
            "Epoch 82/100\n",
            "127/127 [==============================] - 47s 373ms/step - loss: 1.1458 - accuracy: 0.6953 - val_loss: 1.2730 - val_accuracy: 0.6933\n",
            "Epoch 83/100\n",
            "127/127 [==============================] - 49s 385ms/step - loss: 1.1432 - accuracy: 0.6967 - val_loss: 1.2716 - val_accuracy: 0.6944\n",
            "Epoch 84/100\n",
            "127/127 [==============================] - 49s 382ms/step - loss: 1.1455 - accuracy: 0.6949 - val_loss: 1.2761 - val_accuracy: 0.6930\n",
            "Epoch 85/100\n",
            "127/127 [==============================] - 48s 375ms/step - loss: 1.1430 - accuracy: 0.6955 - val_loss: 1.2714 - val_accuracy: 0.6941\n",
            "Epoch 86/100\n",
            "127/127 [==============================] - 49s 382ms/step - loss: 1.1423 - accuracy: 0.6950 - val_loss: 1.2752 - val_accuracy: 0.6959\n",
            "Epoch 87/100\n",
            "127/127 [==============================] - 49s 383ms/step - loss: 1.1408 - accuracy: 0.6957 - val_loss: 1.2741 - val_accuracy: 0.6941\n",
            "Epoch 88/100\n",
            "127/127 [==============================] - 48s 380ms/step - loss: 1.1432 - accuracy: 0.6956 - val_loss: 1.2772 - val_accuracy: 0.6919\n",
            "Epoch 89/100\n",
            "127/127 [==============================] - 49s 385ms/step - loss: 1.1437 - accuracy: 0.6946 - val_loss: 1.2715 - val_accuracy: 0.6957\n",
            "Epoch 90/100\n",
            "127/127 [==============================] - 49s 387ms/step - loss: 1.1352 - accuracy: 0.6972 - val_loss: 1.2760 - val_accuracy: 0.6936\n",
            "Epoch 91/100\n",
            "127/127 [==============================] - 49s 389ms/step - loss: 1.1373 - accuracy: 0.6966 - val_loss: 1.2738 - val_accuracy: 0.6936\n",
            "Epoch 92/100\n",
            "127/127 [==============================] - 48s 376ms/step - loss: 1.1335 - accuracy: 0.6963 - val_loss: 1.2682 - val_accuracy: 0.6951\n",
            "Epoch 93/100\n",
            "127/127 [==============================] - 48s 382ms/step - loss: 1.1333 - accuracy: 0.6974 - val_loss: 1.2777 - val_accuracy: 0.6947\n",
            "Epoch 94/100\n",
            "127/127 [==============================] - 48s 382ms/step - loss: 1.1351 - accuracy: 0.6970 - val_loss: 1.2759 - val_accuracy: 0.6950\n",
            "Epoch 95/100\n",
            "127/127 [==============================] - 49s 384ms/step - loss: 1.1347 - accuracy: 0.6966 - val_loss: 1.2746 - val_accuracy: 0.6935\n",
            "Epoch 96/100\n",
            "127/127 [==============================] - 48s 382ms/step - loss: 1.1347 - accuracy: 0.6970 - val_loss: 1.2744 - val_accuracy: 0.6948\n",
            "Epoch 97/100\n",
            "127/127 [==============================] - 49s 389ms/step - loss: 1.1307 - accuracy: 0.6983 - val_loss: 1.2690 - val_accuracy: 0.6948\n",
            "Epoch 98/100\n",
            "127/127 [==============================] - 48s 378ms/step - loss: 1.1312 - accuracy: 0.6976 - val_loss: 1.2716 - val_accuracy: 0.6939\n",
            "Epoch 99/100\n",
            "127/127 [==============================] - 49s 386ms/step - loss: 1.1334 - accuracy: 0.6957 - val_loss: 1.2729 - val_accuracy: 0.6957\n",
            "Epoch 100/100\n",
            "127/127 [==============================] - 48s 380ms/step - loss: 1.1295 - accuracy: 0.6978 - val_loss: 1.2721 - val_accuracy: 0.6982\n"
          ]
        }
      ]
    },
    {
      "cell_type": "code",
      "metadata": {
        "id": "bGllmK-j5783",
        "colab": {
          "base_uri": "https://localhost:8080/",
          "height": 312
        },
        "outputId": "ffb529cb-0b54-4741-b070-b002fadaae92"
      },
      "source": [
        "s, (at, al) = plt.subplots(2,1)\n",
        "at.plot(history.history['accuracy'], c= 'b')\n",
        "at.plot(history.history['val_accuracy'], c='r')\n",
        "at.set_title('model accuracy')\n",
        "at.set_ylabel('accuracy')\n",
        "at.set_xlabel('epoch')\n",
        "at.legend(['LSTM_train', 'LSTM_val'], loc='upper left')\n",
        "\n",
        "al.plot(history.history['loss'], c='m')\n",
        "al.plot(history.history['val_loss'], c='c')\n",
        "al.set_title('model loss')\n",
        "al.set_ylabel('loss')\n",
        "al.set_xlabel('epoch')\n",
        "al.legend(['train', 'val'], loc = 'upper left')"
      ],
      "execution_count": 38,
      "outputs": [
        {
          "output_type": "execute_result",
          "data": {
            "text/plain": [
              "<matplotlib.legend.Legend at 0x7f3448ec5210>"
            ]
          },
          "metadata": {},
          "execution_count": 38
        },
        {
          "output_type": "display_data",
          "data": {
            "image/png": "[encoded data removed]",
            "text/plain": [
              "<Figure size 432x288 with 2 Axes>"
            ]
          },
          "metadata": {
            "needs_background": "light"
          }
        }
      ]
    },
    {
      "cell_type": "code",
      "metadata": {
        "id": "jeuJFk0cqE8v"
      },
      "source": [
        "model.save('/content/drive/MyDrive/datagram/data/partly_trained.h5')"
      ],
      "execution_count": 39,
      "outputs": []
    },
    {
      "cell_type": "code",
      "metadata": {
        "id": "oL7IvzAQiIr4"
      },
      "source": [
        "y_pred_1d = (model.predict(x_test) >= 0.5).astype(\"int\")"
      ],
      "execution_count": null,
      "outputs": []
    },
    {
      "cell_type": "code",
      "metadata": {
        "id": "sFEMkSokr4cg"
      },
      "source": [
        "#we can work with chekpoints also\n",
        "\"\"\"# include the epoch in the file name. (use `str.format`)\n",
        "checkpoint_path = 'training_2/cp-{epoch:04d}.ckpt'\n",
        "checkpoint_dir = os.path.dirname(checkpoint_path)\n",
        "\n",
        "cp_callback =  tf.keras.callbacks.ModelCheckpoint(checkpoint_path,\n",
        "                                                 verbose=1,\n",
        "                                                 save_weights_only=True,\n",
        "                                                 period=5) #  save weights everry 5 epochs\n",
        "\n",
        "model = create_model()\n",
        "model.save_weights(checkpoint_path.format(epoch=0))\n",
        "model.fit(train_images, train_labels,\n",
        "         epochs=50, callbacks=[cp_callback],\n",
        "         validation_data =  (test_images, test_labels),\n",
        "         verbose=0)\"\"\""
      ],
      "execution_count": null,
      "outputs": []
    },
    {
      "cell_type": "code",
      "metadata": {
        "id": "Unvk7dla6O9V"
      },
      "source": [
        "def decode_sentiment(score):\n",
        "    return np.argmax(score) \n",
        "\n",
        "\n",
        "scores = model.predict(x_test, verbose=1, batch_size=10000)\n",
        "y_pred_1d = [decode_sentiment(score) for score in scores]\n",
        "y_pred_1d"
      ],
      "execution_count": null,
      "outputs": []
    },
    {
      "cell_type": "code",
      "metadata": {
        "id": "B48PqGFw6SDV"
      },
      "source": [
        "import itertools\n",
        "from sklearn.metrics import confusion_matrix, classification_report, accuracy_score\n",
        "def plot_confusion_matrix(cm, classes,\n",
        "                          title='Confusion matrix',\n",
        "                          cmap=plt.cm.Blues):\n",
        " \n",
        "    \"\"\"This function prints and plots the confusion matrix.\n",
        "    Normalization can be applied by setting `normalize=True`.\n",
        "    \"\"\"\n",
        "\n",
        "    cm = cm.astype('float') / cm.sum(axis=1)[:, np.newaxis]\n",
        "\n",
        "    plt.imshow(cm, interpolation='nearest', cmap=cmap)\n",
        "    plt.title(title, fontsize=20)\n",
        "    plt.colorbar()\n",
        "    tick_marks = np.arange(len(classes))\n",
        "    plt.xticks(tick_marks, classes, fontsize=13)\n",
        "    plt.yticks(tick_marks, classes, fontsize=13)\n",
        "\n",
        "    fmt = '.2f'\n",
        "    thresh = cm.max() / 2.\n",
        "    for i, j in itertools.product(range(cm.shape[0]), range(cm.shape[1])):\n",
        "        plt.text(j, i, format(cm[i, j], fmt),\n",
        "                 horizontalalignment=\"center\",\n",
        "                 color=\"white\" if cm[i, j] > thresh else \"black\")\n",
        "\n",
        "    plt.ylabel('True label', fontsize=17)\n",
        "    plt.xlabel('Predicted label', fontsize=17)"
      ],
      "execution_count": null,
      "outputs": []
    },
    {
      "cell_type": "code",
      "metadata": {
        "id": "zXIFb9XK6VCx"
      },
      "source": [
        "cnf_matrix = confusion_matrix(val_data.label.to_list(), y_pred_1d)\n",
        "plt.figure(figsize=(6,6))\n",
        "plot_confusion_matrix(cnf_matrix, classes=val_data.label.unique(), title=\"Confusion matrix\")\n",
        "plt.show()"
      ],
      "execution_count": null,
      "outputs": []
    },
    {
      "cell_type": "code",
      "metadata": {
        "id": "4WO1pq-J6XRH"
      },
      "source": [
        "print(classification_report(list(val_data.label), y_pred_1d))"
      ],
      "execution_count": null,
      "outputs": []
    },
    {
      "cell_type": "markdown",
      "metadata": {
        "id": "qsLS0ijyFBQw"
      },
      "source": [
        "# Single Prediction"
      ]
    },
    {
      "cell_type": "code",
      "metadata": {
        "colab": {
          "base_uri": "https://localhost:8080/"
        },
        "id": "NBhrKdIL0Mfa",
        "outputId": "27fe88ad-a6a2-4d27-b483-04f01b693b4b"
      },
      "source": [
        "def predict(model, review, seq_length = 25):\n",
        "    \n",
        "    tokenizer = Tokenizer()\n",
        "    review = clean_text(review)\n",
        "    review = Preprocess_list_french(review, dicto='/content/drive/MyDrive/datagram/data/dictionnaire.txt')\n",
        "    tokenizer.fit_on_texts(review)\n",
        "    word_index = tokenizer.word_index\n",
        "    review_padded = pad_sequences(tokenizer.texts_to_sequences(review),\n",
        "                        maxlen = seq_length)\n",
        "\n",
        "    \n",
        "    if(len(review_padded) == 0):\n",
        "        \"Your review must contain at least 1 word!\"\n",
        "        return None\n",
        "    \n",
        "    score = model.predict(review_padded)\n",
        "    y_pred = [np.argmax(score)]\n",
        "    print('the category is : ' + str(y_pred) )\n",
        "    \n",
        "    return y_pred \n",
        "review = 'My Eyes - Taille-crayons'\n",
        "y_pred = predict(model, review, seq_length = 25)"
      ],
      "execution_count": 40,
      "outputs": [
        {
          "output_type": "stream",
          "name": "stdout",
          "text": [
            " \n",
            "La durée de traitement est 0:00:02.278198 s\n",
            "the category is : [2940]\n"
          ]
        }
      ]
    }
  ]
}